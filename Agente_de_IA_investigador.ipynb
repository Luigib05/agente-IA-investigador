{
  "nbformat": 4,
  "nbformat_minor": 0,
  "metadata": {
    "colab": {
      "provenance": []
    },
    "kernelspec": {
      "name": "python3",
      "display_name": "Python 3"
    },
    "language_info": {
      "name": "python"
    }
  },
  "cells": [
    {
      "cell_type": "markdown",
      "source": [
        "### **Asistente de Investigación Inteligente utilizando el framework CrewAI, que facilita la creación de sistemas multiagente colaborativos en Python. **\n"
      ],
      "metadata": {
        "id": "anwOfR2B-g8d"
      }
    },
    {
      "cell_type": "markdown",
      "source": [
        "# Paso 1: Preparar el Entorno\n",
        "# 1.1. Instalar Dependencias"
      ],
      "metadata": {
        "id": "RhIft9Gb-Y1m"
      }
    },
    {
      "cell_type": "code",
      "execution_count": null,
      "metadata": {
        "id": "fKYYp59M8-69"
      },
      "outputs": [],
      "source": [
        "!pip install crewai openai\n"
      ]
    },
    {
      "cell_type": "markdown",
      "source": [
        "# **Clave de API de OpenAI para utilizar los modelos de lenguaje**"
      ],
      "metadata": {
        "id": "Xx7eWSn-_FB8"
      }
    },
    {
      "cell_type": "code",
      "source": [
        "import os\n",
        "os.environ[\"OPENAI_API_KEY\"] = \"\"\n"
      ],
      "metadata": {
        "id": "1haaXeYF94lV"
      },
      "execution_count": null,
      "outputs": []
    },
    {
      "cell_type": "markdown",
      "source": [
        "# Verificación rápida del sistema\n",
        "**Pequeña prueba para chequear que todo está bien:**"
      ],
      "metadata": {
        "id": "Rdmu__83EI32"
      }
    },
    {
      "cell_type": "code",
      "source": [
        "from crewai import Agent, Task, Crew, Process\n",
        "\n",
        "# Definir un agente simple\n",
        "agente_test = Agent(\n",
        "    role='Investigador',\n",
        "    goal='Buscar y explicar qué es la diabetes tipo II',\n",
        "    backstory='Un agente experto en enfermedades crónicas asociadas al envejecimiento.',\n",
        "    verbose=False\n",
        ")\n",
        "\n",
        "# Definir una tarea simple\n",
        "tarea_test = Task(\n",
        "    description='Explica brevemente qué es la diabetes y cómo se relaciona con el envjecimiento.',\n",
        "    expected_output='Una breve explicación en lenguaje claro.',\n",
        "    agent=agente_test\n",
        ")\n",
        "\n",
        "# Ejecutar con un Crew mínimo\n",
        "equipo_test = Crew(\n",
        "    agents=[agente_test],\n",
        "    tasks=[tarea_test],\n",
        "    process=Process.sequential,\n",
        "    verbose=False\n",
        ")\n",
        "\n",
        "# Lanzar y mostrar el resultado\n",
        "resultado = equipo_test.kickoff()\n",
        "print(\"\\n Resultado:\\n\", resultado)\n"
      ],
      "metadata": {
        "colab": {
          "base_uri": "https://localhost:8080/"
        },
        "id": "aR8yWZ9cEBl7",
        "outputId": "e97bf3f7-cc97-422a-b039-84742f72a512"
      },
      "execution_count": null,
      "outputs": [
        {
          "output_type": "stream",
          "name": "stdout",
          "text": [
            "\n",
            "✅ Resultado:\n",
            " La diabetes es una enfermedad crónica que se caracteriza por niveles altos de glucosa (azúcar) en la sangre. Existen dos tipos principales de diabetes: tipo I, que generalmente se desarrolla en la infancia o adolescencia debido a la incapacidad del cuerpo para producir insulina, y tipo II, que es más común y suele presentarse en adultos debido a la resistencia a la insulina y una producción insuficiente de esta hormona. La diabetes tipo II se asocia a menudo con factores de riesgo como la obesidad, el sedentarismo y una dieta poco saludable.\n",
            "\n",
            "El envejecimiento también juega un papel importante en el desarrollo de la diabetes tipo II. A medida que las personas envejecen, es común que aumenten de peso y que el tejido muscular se reduzca, lo cual puede contribuir a la resistencia a la insulina. Además, el metabolismo tiende a volverse más lento y puede haber un aumento en la grasa corporal. Todo esto aumenta el riesgo de desarrollar diabetes tipo II en personas mayores, lo que a su vez puede afectar su calidad de vida y provocar otras complicaciones de salud. Por lo tanto, es crucial incluir hábitos saludables como una buena alimentación y actividad física regular para prevenir y controlar esta enfermedad a medida que envejecemos.\n"
          ]
        }
      ]
    },
    {
      "cell_type": "markdown",
      "source": [
        "# Paso 2: Definir los Agentes\n",
        "# Creamos cuatro agentes con roles específicos:\n",
        "\n",
        "# Explorador: Busca información relevante.\n",
        "\n",
        "# Evaluador: Filtra y evalúa la calidad de las fuentes.\n",
        "\n",
        "# Sintetizador: Resume la información clave.\n",
        "\n",
        "# Redactor: Redacta un informe coherente.\n",
        "\n",
        "# Se puede usar ingeniería de prompts para optimizarlos\n"
      ],
      "metadata": {
        "id": "_zI6xN6m_P8t"
      }
    },
    {
      "cell_type": "code",
      "source": [
        "from crewai import Agent\n",
        "\n",
        "explorador = Agent(\n",
        "    role='Explorador',\n",
        "    goal='Buscar información relevante sobre el tema proporcionado',\n",
        "    backstory='Especialista en búsqueda de información en diversas fuentes confiables.',\n",
        "    verbose=False,\n",
        "    allow_delegation=False\n",
        ")\n",
        "\n",
        "evaluador = Agent(\n",
        "    role='Evaluador',\n",
        "    goal='Evaluar la credibilidad y relevancia de las fuentes encontradas',\n",
        "    backstory='Experto en análisis crítico de información y validación de fuentes.',\n",
        "    verbose=False,\n",
        "    allow_delegation=False\n",
        ")\n",
        "\n",
        "sintetizador = Agent(\n",
        "    role='Sintetizador',\n",
        "    goal='Resumir y organizar la información clave de las fuentes seleccionadas',\n",
        "    backstory='Hábil en condensar información compleja en resúmenes claros y estructurados.',\n",
        "    verbose=False,\n",
        "    allow_delegation=False\n",
        ")\n",
        "\n",
        "redactor = Agent(\n",
        "    role='Redactor',\n",
        "    goal='Redactar un informe coherente y claro basado en los resúmenes proporcionados',\n",
        "    backstory='Redactor profesional con experiencia en elaboración de informes técnicos.',\n",
        "    verbose=False,\n",
        "    allow_delegation=False\n",
        ")\n"
      ],
      "metadata": {
        "id": "wGo9Gxzq-Tgd"
      },
      "execution_count": null,
      "outputs": []
    },
    {
      "cell_type": "markdown",
      "source": [
        "# Paso 3: Definir las Tareas\n",
        "# Asignar tareas específicas a cada agente.\n",
        "# Se puede usar ingeniería de prompts para optimizarlos"
      ],
      "metadata": {
        "id": "zfW6C9DO_eSE"
      }
    },
    {
      "cell_type": "code",
      "source": [
        "from crewai import Task\n",
        "\n",
        "tema = \"La diabetes tipo II como enfermedad crónica asociada al envejecimiento\"\n",
        "\n",
        "tarea_explorador = Task(\n",
        "    description=f'Buscar las fuentes más relevantes sobre el tema: {tema}',\n",
        "    expected_output='Lista de fuentes con enlaces y breves descripciones.',\n",
        "    agent=explorador\n",
        ")\n",
        "\n",
        "tarea_evaluador = Task(\n",
        "    description='Evaluar la credibilidad y relevancia de las fuentes encontradas.',\n",
        "    expected_output='Lista de fuentes seleccionadas con justificación.',\n",
        "    agent=evaluador\n",
        ")\n",
        "\n",
        "tarea_sintetizador = Task(\n",
        "    description='Resumir y organizar la información clave de las fuentes seleccionadas.',\n",
        "    expected_output='Resumen estructurado con los puntos más importantes.',\n",
        "    agent=sintetizador\n",
        ")\n",
        "\n",
        "tarea_redactor = Task(\n",
        "    description='Redactar un informe coherente y claro basado en los resúmenes proporcionados.',\n",
        "    expected_output='Informe final listo para ser presentado al usuario.',\n",
        "    agent=redactor\n",
        ")\n"
      ],
      "metadata": {
        "id": "_0U0cpFG_rEr"
      },
      "execution_count": null,
      "outputs": []
    },
    {
      "cell_type": "markdown",
      "source": [
        "# Paso 4: Crear el Equipo y Ejecutar\n",
        "# Definir el equipo de trabajo y ejecutar el proceso de investigación:"
      ],
      "metadata": {
        "id": "bbW8Nm3v_jjj"
      }
    },
    {
      "cell_type": "code",
      "source": [
        "from crewai import Crew, Process\n",
        "\n",
        "equipo_investigacion = Crew(\n",
        "    agents=[explorador, evaluador, sintetizador, redactor],\n",
        "    tasks=[tarea_explorador, tarea_evaluador, tarea_sintetizador, tarea_redactor],\n",
        "    process=Process.sequential,  # Las tareas se ejecutan en orden\n",
        "    verbose=False\n",
        ")\n",
        "\n",
        "resultado = equipo_investigacion.kickoff()\n",
        "print(resultado)\n"
      ],
      "metadata": {
        "id": "ZDK69fEXAEWS"
      },
      "execution_count": null,
      "outputs": []
    },
    {
      "cell_type": "markdown",
      "source": [
        "# Paso 5: Mejorar el Agente Explorador para que realice búsquedas reales en la web usando duckduckgo-search"
      ],
      "metadata": {
        "id": "amhJRhXtnAWz"
      }
    },
    {
      "cell_type": "markdown",
      "source": [
        "# 1. Instalar la librería"
      ],
      "metadata": {
        "id": "oit1u6k1nKpC"
      }
    },
    {
      "cell_type": "code",
      "source": [
        "!pip install duckduckgo-search\n"
      ],
      "metadata": {
        "id": "ksmAR_31nEji"
      },
      "execution_count": null,
      "outputs": []
    },
    {
      "cell_type": "markdown",
      "source": [
        "# 2. Crear una función de búsqueda web"
      ],
      "metadata": {
        "id": "Qc1fAor_nRvr"
      }
    },
    {
      "cell_type": "code",
      "source": [
        "from duckduckgo_search import DDGS\n",
        "\n",
        "def buscar_web_duckduckgo(query, max_results=5):\n",
        "    resultados = []\n",
        "    with DDGS() as ddgs:\n",
        "        for r in ddgs.text(query, max_results=max_results):\n",
        "            resultados.append(f\"{r['title']}\\n{r['href']}\\n{r['body']}\\n\")\n",
        "    return \"\\n---\\n\".join(resultados)\n"
      ],
      "metadata": {
        "id": "Yx1iJEafnRBL"
      },
      "execution_count": null,
      "outputs": []
    },
    {
      "cell_type": "markdown",
      "source": [
        "# 3. Redefinir el Agente Explorador para usar la búsqueda\n",
        "**En lugar de que el explorador le pregunte a GPT directamente, usaremos la búsqueda como entrada inicial:**\n",
        "\n",
        "# Se puede usar ingenieria de prompts para optimizarlos"
      ],
      "metadata": {
        "id": "i2oP2EGUnb7a"
      }
    },
    {
      "cell_type": "code",
      "source": [
        "tema = \"La diabetes tipo II como enfermedad crónica asociada al envejecimiento\"\n",
        "resultados_web = buscar_web_duckduckgo(tema)\n",
        "\n",
        "# Definimos un nuevo agente explorador que recibe esos resultados\n",
        "from crewai import Agent, Task\n",
        "\n",
        "explorador_real = Agent(\n",
        "    role='Explorador Web',\n",
        "    goal='Buscar información actual sobre el tema proporcionado y entregarla con referencias.',\n",
        "    backstory='Especialista en búsqueda web confiable usando herramientas modernas.',\n",
        "    verbose=False\n",
        ")\n",
        "\n",
        "tarea_explorador_real = Task(\n",
        "    description=f\"A partir de los siguientes resultados web encontrados:\\n\\n{resultados_web}\\n\\nResumí los hallazgos más relevantes.\",\n",
        "    expected_output='Resumen de hallazgos con referencias útiles.',\n",
        "    agent=explorador_real\n",
        ")\n"
      ],
      "metadata": {
        "id": "GpQ-Ci0BnfXi"
      },
      "execution_count": null,
      "outputs": []
    },
    {
      "cell_type": "markdown",
      "source": [
        "# 4. Ejecutar este agente"
      ],
      "metadata": {
        "id": "1SfUGh0innTC"
      }
    },
    {
      "cell_type": "code",
      "source": [
        "from crewai import Crew, Process\n",
        "\n",
        "crew_web = Crew(\n",
        "    agents=[explorador_real],\n",
        "    tasks=[tarea_explorador_real],\n",
        "    process=Process.sequential,\n",
        "    verbose=False\n",
        ")\n",
        "\n",
        "resultado_web = crew_web.kickoff()\n",
        "print(\"\\n Resultado con búsqueda web:\\n\")\n",
        "print(resultado_web)\n"
      ],
      "metadata": {
        "id": "T-yVMLBTnov6"
      },
      "execution_count": null,
      "outputs": []
    },
    {
      "cell_type": "markdown",
      "source": [
        "# 5. Probar con un Tema Específico\n",
        "\n",
        "# Para iniciar el proceso, se proporciona un tema específico al agente explorador. Por ejemplo:"
      ],
      "metadata": {
        "id": "aa8-kFjYAIT0"
      }
    },
    {
      "cell_type": "code",
      "source": [
        "tema = \"La diabetes tipo II como enfermedad crónica asociada al envejecimiento\"\n",
        "\n",
        "tarea_explorador.description = f\"Buscar las fuentes más relevantes sobre el tema: {tema}\"\n"
      ],
      "metadata": {
        "id": "Efq9kQrdAYq7"
      },
      "execution_count": null,
      "outputs": []
    },
    {
      "cell_type": "markdown",
      "source": [
        "# **Paso 6: RAG**"
      ],
      "metadata": {
        "id": "ZakY-ZitQQjT"
      }
    },
    {
      "cell_type": "markdown",
      "source": [
        "# 1. Instalar dependencias necesarias\n",
        "\n",
        "**Ejemplo para RAG**"
      ],
      "metadata": {
        "id": "bqh4MHX4Na6V"
      }
    },
    {
      "cell_type": "code",
      "source": [
        "!pip install langchain faiss-cpu tiktoken pypdf\n"
      ],
      "metadata": {
        "id": "9vN1HBh5NbWs"
      },
      "execution_count": null,
      "outputs": []
    },
    {
      "cell_type": "code",
      "source": [
        "!pip install -U langchain-community\n"
      ],
      "metadata": {
        "id": "M6_Ql63iRImP"
      },
      "execution_count": null,
      "outputs": []
    },
    {
      "cell_type": "markdown",
      "source": [
        "# 2. Cargar un documento\n",
        "**Archivos PDFs o TXTs, se puede subir manualmente a Colab:**"
      ],
      "metadata": {
        "id": "E1Bje7NpNr7F"
      }
    },
    {
      "cell_type": "code",
      "source": [
        "from google.colab import files\n",
        "uploaded = files.upload()\n"
      ],
      "metadata": {
        "id": "xIMOz1ICNvtQ"
      },
      "execution_count": null,
      "outputs": []
    },
    {
      "cell_type": "markdown",
      "source": [
        "# 3. Crear el índice FAISS con LangChain\n",
        "\n",
        "**Una vez subido el archivo, ejecutar el siguiente código para procesarlo y crear el índice FAISS:**"
      ],
      "metadata": {
        "id": "PbPvap8GPpm4"
      }
    },
    {
      "cell_type": "code",
      "source": [
        "from langchain.document_loaders import PyPDFLoader\n",
        "from langchain.text_splitter import RecursiveCharacterTextSplitter\n",
        "from langchain.embeddings import OpenAIEmbeddings\n",
        "from langchain.vectorstores import FAISS\n",
        "\n",
        "# Cargar el documento PDF\n",
        "loader = PyPDFLoader(\"La diabetes en las personas mayores.pdf\")\n",
        "documents = loader.load()\n",
        "\n",
        "# Dividir el texto en fragmentos más pequeños\n",
        "text_splitter = RecursiveCharacterTextSplitter(chunk_size=500, chunk_overlap=50)\n",
        "texts = text_splitter.split_documents(documents)\n",
        "\n",
        "# Crear embeddings y construir el índice FAISS\n",
        "embeddings = OpenAIEmbeddings()\n",
        "vectorstore = FAISS.from_documents(texts, embeddings)\n"
      ],
      "metadata": {
        "id": "JASCa7lWPx_N"
      },
      "execution_count": null,
      "outputs": []
    },
    {
      "cell_type": "markdown",
      "source": [
        "# 4. Realizar una consulta al índice\n",
        "\n",
        "**Realizar una consulta al índice para recuperar información relevante del documento:**"
      ],
      "metadata": {
        "id": "kQquUAhFQDWN"
      }
    },
    {
      "cell_type": "code",
      "source": [
        "# Definir la consulta\n",
        "query = \"¿Cuáles son los síntomas de la Diabetes?\"\n",
        "\n",
        "# Realizar la búsqueda en el índice\n",
        "docs = vectorstore.similarity_search(query, k=3)\n",
        "\n",
        "# Mostrar los resultados\n",
        "for i, doc in enumerate(docs):\n",
        "    print(f\"\\nResultado {i+1}:\\n\")\n",
        "    print(doc.page_content)\n"
      ],
      "metadata": {
        "id": "EhFXQ9TAQIcE"
      },
      "execution_count": null,
      "outputs": []
    }
  ]
}